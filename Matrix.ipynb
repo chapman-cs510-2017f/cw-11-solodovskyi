{
 "cells": [
  {
   "cell_type": "markdown",
   "metadata": {
    "collapsed": false
   },
   "source": [
    "## Problem 2:\n",
    "1)  Matrix  is a rectangular array of numbers, symbols, or expressions, arranged in rows and columns.[2][3] For example, the dimensions of the       matrix below are 2 × 3 (read \"two by three\"), because there are two rows and three columns:\n",
    "\n",
    "    {\\displaystyle {\\begin{bmatrix}1&9&-13\\\\20&5&-6\\end{bmatrix}}.}\n",
    "    \n",
    "    The individual items in an m × n matrix A, often denoted by ai,j, where max i = m and max j = n, are called its elements or entries.\n",
    "    \n",
    "    In computing, row-major order and column-major order are methods for storing multidimensional arrays in linear storage such as random access memory.\n",
    "    The difference between the orders lies in which elements of an array are contiguous in memory. In a row-major order, the consecutive elements of a row reside     next to each other, whereas the same holds true for consecutive elements of a column in a column-major order. While the terms allude to the rows and columns       of a two-dimensional array, i.e. a matrix, the orders can be generalized to arrays of any dimension. Row major ordering Is the default convention in C. \n",
    "2)  If someone wanted to force C to use column-major ordering, they could simply swap the labels for rows and columns (ie. use the transpose). The notion of which     axis is the row and which is the column is not fundamental, so this will not change the behaviour of the function as long as the programmer is consistent."
   ]
  },
  {
   "cell_type": "code",
   "execution_count": 0,
   "metadata": {
    "collapsed": false
   },
   "outputs": [
   ],
   "source": [
   ]
  }
 ],
 "metadata": {
  "kernelspec": {
   "display_name": "Python 3 (Anaconda)",
   "language": "python",
   "name": "anaconda3"
  },
  "language_info": {
   "codemirror_mode": {
    "name": "ipython",
    "version": 3
   },
   "file_extension": ".py",
   "mimetype": "text/x-python",
   "name": "python",
   "nbconvert_exporter": "python",
   "pygments_lexer": "ipython3",
   "version": "3.5.4"
  }
 },
 "nbformat": 4,
 "nbformat_minor": 0
}