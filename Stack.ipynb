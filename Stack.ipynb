{
 "cells": [
  {
   "cell_type": "markdown",
   "metadata": {
    "collapsed": false
   },
   "source": [
    "## STACK typedef\n",
    "\n",
    "struct stack\n",
    "{\n",
    "    SVALUE data;\n",
    "    struct stack *head;\n",
    "};\n",
    "typedef struct stack *STACK;\n",
    "\n",
    "The typedef STACK is defined as a pointer to a stack structure. This is so that when a variable of type STACK is declared, only enough memory is reserved for that variable to contain a pointer (4 or 8 bytes, depending on the compiler) instead of reserving memory to hold the entire actual structure. Thus the STACK variable is a pointer to a stack structure, and not the structure itself. Note that a key point here is that, to be useful, the STACK pointer needs point to an actual stack data structure. So, somewhere along the line, a stack structure needs to be declared (such as a program stack or program heap variable) or allocated (via malloc()) before the STACK variable can be set to point to an actual stack structure in memory. Also note that this stack list is a last-in, first-out queue.\n",
    "\n",
    "A sample of a linked list in non-contiguous is logically shown in the following three tables, where each table represent one element in the list.\n",
    "\n",
    "stack element\t# 3\n",
    "data - (some value)\n",
    "head - points to stack # 2\n",
    "\n",
    "Element # 3 is the tail end of the list, and it points back to Element # 2, which is located at some location in memory separated from Element # 3 (which is simulated by this text inbetween these two list Elements.\n",
    "\n",
    "stack element\t# 2\n",
    "data - (some value)\n",
    "head - points to stack # 1\n",
    "\n",
    "Similary, Element # 2 points to Element # 1, which is similarly separated from Element # 2.\n",
    "\n",
    "stack element\t# 1\n",
    "data - (some value)\n",
    "head - points to NULL (this is the stack head)\n",
    "\n",
    "Finally, we get to Element # 1, which is at the head end of the list. Since it is the head end, there is nowhere else to go along the list, so Element # 1 points to NULL, logically terminating the list."
   ]
  },
  {
   "cell_type": "code",
   "execution_count": 0,
   "metadata": {
    "collapsed": false
   },
   "outputs": [
   ],
   "source": [
   ]
  }
 ],
 "metadata": {
  "kernelspec": {
   "display_name": "Python 3 (Anaconda)",
   "language": "python",
   "name": "anaconda3"
  },
  "language_info": {
   "codemirror_mode": {
    "name": "ipython",
    "version": 3
   },
   "file_extension": ".py",
   "mimetype": "text/x-python",
   "name": "python",
   "nbconvert_exporter": "python",
   "pygments_lexer": "ipython3",
   "version": "3.5.4"
  }
 },
 "nbformat": 4,
 "nbformat_minor": 0
}